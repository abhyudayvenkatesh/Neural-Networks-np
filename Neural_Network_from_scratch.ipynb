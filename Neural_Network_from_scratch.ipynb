{
  "nbformat": 4,
  "nbformat_minor": 0,
  "metadata": {
    "colab": {
      "provenance": []
    },
    "kernelspec": {
      "name": "python3",
      "display_name": "Python 3"
    },
    "language_info": {
      "name": "python"
    }
  },
  "cells": [
    {
      "cell_type": "code",
      "execution_count": null,
      "metadata": {
        "id": "4pZATvVtP8cX"
      },
      "outputs": [],
      "source": [
        "import pandas as pd\n",
        "import numpy as np\n",
        "from sklearn.datasets import make_classification\n",
        "x,y=make_classification(n_samples=1000,n_features=5,n_classes=2,random_state=123)\n",
        "x=x.T\n",
        "y=y.reshape(1,-1)"
      ]
    },
    {
      "cell_type": "code",
      "source": [
        "n_arch=[\n",
        "    {'hidden_units':5,'activation':'none'},\n",
        "    {'hidden_units':5,'activation':'relu'},\n",
        "    {'hidden_units':4,'activation':'relu'},\n",
        "    {'hidden_units':3,'activation':'relu'},\n",
        "    {'hidden_units':1,'activation':'sigmoid'}\n",
        "]"
      ],
      "metadata": {
        "id": "AXHJk6IsQSGi"
      },
      "execution_count": null,
      "outputs": []
    },
    {
      "cell_type": "code",
      "source": [
        "num_layers=len(n_arch)\n",
        "def initialize_parameters(n_arch):\n",
        "  parameters={}\n",
        "  for l in range(1,num_layers):\n",
        "    parameters['W'+str(l)]=np.random.randn(n_arch[l]['hidden_units'],n_arch[l-1]['hidden_units'])*0.01\n",
        "    parameters['b'+str(l)]=np.zeros((n_arch[l]['hidden_units'],1))\n",
        "  return parameters\n",
        "params=initialize_parameters(n_arch)\n",
        "params['W1'].shape"
      ],
      "metadata": {
        "colab": {
          "base_uri": "https://localhost:8080/"
        },
        "id": "sn--sqbAQnws",
        "outputId": "57240bbe-4142-46c4-d709-2a8281c14fe3"
      },
      "execution_count": null,
      "outputs": [
        {
          "output_type": "execute_result",
          "data": {
            "text/plain": [
              "(5, 5)"
            ]
          },
          "metadata": {},
          "execution_count": 3
        }
      ]
    },
    {
      "cell_type": "code",
      "source": [
        "def forward(x,params,nn_arch):\n",
        "  forward_cache={}\n",
        "  A_prev=x\n",
        "  for l in range(1,num_layers):\n",
        "    W,b=params['W'+str(l)],params['b'+str(l)]\n",
        "    activation=nn_arch[l]['activation']\n",
        "    z=np.dot(W,A_prev)+b\n",
        "    if activation=='relu':\n",
        "      forward_cache['Z'+str(l)]=z\n",
        "      forward_cache['A'+str(l)]=np.maximum(0,z)\n",
        "    elif activation=='sigmoid':\n",
        "      forward_cache['Z'+str(l)]=z\n",
        "      forward_cache['A'+str(l)]=1/(1+np.exp(-z))\n",
        "    A_prev=forward_cache['A'+str(l)]\n",
        "  forward_cache['A0']=x\n",
        "  AL=forward_cache['A'+str(l)]\n",
        "  return AL,forward_cache\n",
        "\n",
        "AL,forward_cache=forward(x,params,n_arch)\n",
        "forward_cache['A0'].shape"
      ],
      "metadata": {
        "colab": {
          "base_uri": "https://localhost:8080/"
        },
        "collapsed": true,
        "id": "5AiyMf73SyXX",
        "outputId": "dcd2ad23-a406-4aec-fdec-7f757a0d782c"
      },
      "execution_count": null,
      "outputs": [
        {
          "output_type": "execute_result",
          "data": {
            "text/plain": [
              "(5, 1000)"
            ]
          },
          "metadata": {},
          "execution_count": 10
        }
      ]
    },
    {
      "cell_type": "code",
      "source": [
        "num_layers=len(n_arch)\n",
        "def initialize_parameters(n_arch):\n",
        "  parameters={}\n",
        "  for l in range(1,num_layers):\n",
        "    parameters['W'+str(l)]=np.random.randn(n_arch[l]['hidden_units'],n_arch[l-1]['hidden_units'])*0.01\n",
        "    parameters['b'+str(l)]=np.zeros((n_arch[l]['hidden_units'],1))\n",
        "  return parameters\n",
        "params=initialize_parameters(n_arch)\n",
        "params['W1'].shape\n",
        "\n",
        "def forward(x,params,nn_arch):\n",
        "  forward_cache={}\n",
        "  A_prev=x\n",
        "  for l in range(1,num_layers):\n",
        "    W,b=params['W'+str(l)],params['b'+str(l)]\n",
        "    activation=nn_arch[l]['activation']\n",
        "    z=np.dot(W,A_prev)+b\n",
        "    if activation=='relu':\n",
        "      forward_cache['Z'+str(l)]=z\n",
        "      forward_cache['A'+str(l)]=np.maximum(0,z)\n",
        "    elif activation=='sigmoid':\n",
        "      forward_cache['Z'+str(l)]=z\n",
        "      forward_cache['A'+str(l)]=1/(1+np.exp(-z))\n",
        "    A_prev=forward_cache['A'+str(l)]\n",
        "  forward_cache['A0']=x\n",
        "  AL=forward_cache['A'+str(l)]\n",
        "  return AL,forward_cache\n",
        "\n",
        "def cost(AL,y):\n",
        "  m=y.shape[1]\n",
        "  cost=(-1/m)*np.sum(np.multiply(y,np.log(AL))+np.multiply(1-y,np.log(1-AL)))\n",
        "  return cost\n",
        "\n",
        "def sigmoid_backward(dA_prev,Z):\n",
        "  s=1/(1+np.exp(-Z))\n",
        "  ds=s*(1-s)\n",
        "  return dA_prev*ds\n",
        "\n",
        "def relu_backward(dA_prev,Z):\n",
        "  dZ=np.array(dA_prev,copy=True)\n",
        "  dZ[Z<=0]=0\n",
        "  return dZ\n",
        "\n",
        "def linear_backward(parameters,cache,nn_arch,y,AL):\n",
        "  dA_prev=(AL-y)/(AL*(1-AL))\n",
        "  gradients={}\n",
        "  for l in reversed(range(1,num_layers)):\n",
        "    activation=nn_arch[l]['activation']\n",
        "    w_curr=parameters['W'+str(l)]\n",
        "    a_prev=cache['A'+str(l-1)]\n",
        "    z_curr=cache['Z'+str(l)]\n",
        "    if activation=='relu':\n",
        "      dZ=relu_backward(dA_prev,z_curr)\n",
        "      gradients['dW'+str(l)]=np.dot(dZ,a_prev.T)/m\n",
        "      gradients['db'+str(l)]=np.sum(dZ,axis=1,keepdims=True)/m\n",
        "      dA_prev=np.dot(w_curr.T,dZ)\n",
        "    elif activation=='sigmoid':\n",
        "      dZ=sigmoid_backward(dA_prev,z_curr)\n",
        "      gradients['dW'+str(l)]=np.dot(dZ,a_prev.T)/m\n",
        "      gradients['db'+str(l)]=np.sum(dZ,axis=1,keepdims=True)/m\n",
        "      dA_prev=np.dot(w_curr.T,dZ)\n",
        "  return gradients\n",
        "\n",
        "def update_params(params,gradients,lr):\n",
        "  for l in range(1,num_layers):\n",
        "    params['W'+str(l)]=params['W'+str(l)]-lr*gradients['dW'+str(l)]\n",
        "    params['b'+str(l)]=params['b'+str(l)]-lr*gradients['db'+str(l)]\n",
        "  return params\n",
        "\n",
        "def training(x,y,nn_arch,lr,epochs):\n",
        "  parameters=initialize_parameters(nn_arch)\n",
        "  for i in range(epochs):\n",
        "    AL,cache=forward(x,parameters,nn_arch)\n",
        "    cost_curr=cost(AL,y)\n",
        "    gradients=linear_backward(parameters,cache,nn_arch,y,AL)\n",
        "    parameters=update_params(parameters,gradients,lr)\n",
        "    if i%100==0:\n",
        "      print('Cost after iteration %i: %f' %(i,cost_curr))\n",
        "  return parameters"
      ],
      "metadata": {
        "id": "v6hdxHL7Wfvh"
      },
      "execution_count": null,
      "outputs": []
    },
    {
      "cell_type": "code",
      "source": [
        "training(x,y,nn_arch,0.001,10000)"
      ],
      "metadata": {
        "colab": {
          "base_uri": "https://localhost:8080/",
          "height": 146
        },
        "id": "xorbMn4aacZB",
        "outputId": "f1e4f1fb-ab20-4277-e236-898cd14b76ef"
      },
      "execution_count": null,
      "outputs": [
        {
          "output_type": "error",
          "ename": "NameError",
          "evalue": "name 'training' is not defined",
          "traceback": [
            "\u001b[0;31m---------------------------------------------------------------------------\u001b[0m",
            "\u001b[0;31mNameError\u001b[0m                                 Traceback (most recent call last)",
            "\u001b[0;32m<ipython-input-10-96e7817b6ca1>\u001b[0m in \u001b[0;36m<cell line: 1>\u001b[0;34m()\u001b[0m\n\u001b[0;32m----> 1\u001b[0;31m \u001b[0mtraining\u001b[0m\u001b[0;34m(\u001b[0m\u001b[0mx\u001b[0m\u001b[0;34m,\u001b[0m\u001b[0my\u001b[0m\u001b[0;34m,\u001b[0m\u001b[0mnn_arch\u001b[0m\u001b[0;34m,\u001b[0m\u001b[0;36m0.001\u001b[0m\u001b[0;34m,\u001b[0m\u001b[0;36m10000\u001b[0m\u001b[0;34m)\u001b[0m\u001b[0;34m\u001b[0m\u001b[0;34m\u001b[0m\u001b[0m\n\u001b[0m",
            "\u001b[0;31mNameError\u001b[0m: name 'training' is not defined"
          ]
        }
      ]
    }
  ]
}